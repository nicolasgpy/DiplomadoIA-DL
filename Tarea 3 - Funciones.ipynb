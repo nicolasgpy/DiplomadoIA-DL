{
 "cells": [
  {
   "cell_type": "markdown",
   "id": "8eebce1e",
   "metadata": {},
   "source": [
    "# Tarea 3 - Funciones\n",
    "- Nicolás Guerrero Caballero\n",
    "- Diplomado en IA & AP"
   ]
  },
  {
   "cell_type": "code",
   "execution_count": 41,
   "id": "b961e711",
   "metadata": {},
   "outputs": [],
   "source": [
    "from datetime import datetime\n",
    "from dateutil import relativedelta"
   ]
  },
  {
   "cell_type": "markdown",
   "id": "d93daf6a",
   "metadata": {},
   "source": [
    "## Punto 1\n",
    "Escriba una función  que reciba la fecha de nacimiento de un a persona y calcule la edad de la persona"
   ]
  },
  {
   "cell_type": "code",
   "execution_count": 61,
   "id": "74023914",
   "metadata": {},
   "outputs": [],
   "source": [
    "def get_age(year: int, month: int, day: int):\n",
    "    birthday = datetime(year, month, day)\n",
    "    today = datetime.today()\n",
    "    diff = relativedelta.relativedelta(today, birthday)\n",
    "    print(f'Su edad son {diff.years} años, {diff.months} meses, {diff.days} días, {diff.hours}, horas y {diff.minutes} minutos')"
   ]
  },
  {
   "cell_type": "code",
   "execution_count": 64,
   "id": "a1b76b8a",
   "metadata": {},
   "outputs": [
    {
     "name": "stdout",
     "output_type": "stream",
     "text": [
      "Su edad son 23 años, 3 meses, 23 días, 20, horas y 5 minutos\n"
     ]
    }
   ],
   "source": [
    "get_age(2000, 2, 7)"
   ]
  },
  {
   "cell_type": "markdown",
   "id": "9a711ea3",
   "metadata": {},
   "source": [
    "## Punto 2\n",
    "Crea una función EscribirCentrado, que reciba como parámetro un texto y lo escriba centrado en pantalla (suponiendo una anchura de 80 columnas; pista: deberás escribir 40 - longitud/2 espacios antes del texto).  "
   ]
  },
  {
   "cell_type": "code",
   "execution_count": 84,
   "id": "6e4dda95",
   "metadata": {},
   "outputs": [],
   "source": [
    "def EscribirCentrado(text: str):\n",
    "    longitud = len(text)\n",
    "    centro = int((40-longitud)/2)\n",
    "    print(centro*' '+text)"
   ]
  },
  {
   "cell_type": "code",
   "execution_count": 85,
   "id": "1193fd0b",
   "metadata": {},
   "outputs": [
    {
     "name": "stdout",
     "output_type": "stream",
     "text": [
      "          Diplomado en IA y AP\n"
     ]
    }
   ],
   "source": [
    "EscribirCentrado('Diplomado en IA y AP')"
   ]
  },
  {
   "cell_type": "markdown",
   "id": "2bed873e",
   "metadata": {},
   "source": [
    "## Punto 3\n",
    "Construya una función decorada que reciba un texto y lo escriba marcado con Markdown en _**itálica y resaltada**_ (bold). Revise la lección de decoradores, no vista en clase."
   ]
  },
  {
   "cell_type": "code",
   "execution_count": 143,
   "id": "75b70252",
   "metadata": {},
   "outputs": [],
   "source": [
    "def to_mkd_italic(function):\n",
    "    def decorador(text):\n",
    "        text = function(text)\n",
    "        return ('_'+text+'_')\n",
    "    return decorador\n",
    "\n",
    "def to_mkd_bold(function):\n",
    "    def decorador(text):\n",
    "        text = function(text)\n",
    "        return ('**'+text+'**')\n",
    "    return decorador"
   ]
  },
  {
   "cell_type": "code",
   "execution_count": 149,
   "id": "707d5646",
   "metadata": {},
   "outputs": [],
   "source": [
    "@to_mkd_italic\n",
    "@to_mkd_bold\n",
    "def get_text(text: str):\n",
    "    return str(text)"
   ]
  },
  {
   "cell_type": "markdown",
   "id": "d0ac799e",
   "metadata": {},
   "source": [
    "## Punto 4\n",
    "Crea un programa que pida dos número enteros al usuario y diga si alguno de ellos es múltiplo del otro. "
   ]
  },
  {
   "cell_type": "code",
   "execution_count": 196,
   "id": "6768ec67",
   "metadata": {},
   "outputs": [],
   "source": [
    "def is_multiple() -> bool:\n",
    "    \n",
    "    a = float(input('Digite el primer número: '))\n",
    "    b = float(input('Digite el segundo número: '))\n",
    "    mod1 = b%a\n",
    "    mod2 = a%b\n",
    "    \n",
    "    if mod1 != 0:\n",
    "        print(print(f'{b} no es multiplo de {a}'))\n",
    "    else:\n",
    "        print(f'{b} es multiplo de {a}')\n",
    "        \n",
    "    if mod2 != 0:\n",
    "        print(print(f'{a} no es multiplo de {b}'))\n",
    "    else:\n",
    "        print(f'{a} es multiplo de {b}')\n",
    "    "
   ]
  },
  {
   "cell_type": "code",
   "execution_count": 200,
   "id": "c8b75f51",
   "metadata": {},
   "outputs": [
    {
     "name": "stdout",
     "output_type": "stream",
     "text": [
      "Digite el primer número: 7\n",
      "Digite el segundo número: 49\n",
      "49.0 es multiplo de 7.0\n",
      "7.0 no es multiplo de 49.0\n",
      "None\n"
     ]
    }
   ],
   "source": [
    "is_multiple()"
   ]
  },
  {
   "cell_type": "markdown",
   "id": "99e197d1",
   "metadata": {},
   "source": [
    "## Punto 5\n",
    "Crear una función re reciba una lista  de 24 valores de temperatura leída  hora en un día y que calcule la temperatura media  Cree una lista con 24 valores de temperatura de un día de Bogotá y pruebe su función. Invente los datos."
   ]
  },
  {
   "cell_type": "code",
   "execution_count": 218,
   "id": "996aad06",
   "metadata": {},
   "outputs": [],
   "source": [
    "import numpy as np\n",
    "def get_mean_temperature(temperatures: list) -> float:\n",
    "    return np.mean(temperatures)"
   ]
  },
  {
   "cell_type": "code",
   "execution_count": 221,
   "id": "a279cf20",
   "metadata": {},
   "outputs": [
    {
     "name": "stdout",
     "output_type": "stream",
     "text": [
      "La media es 14.37 grados.\n"
     ]
    }
   ],
   "source": [
    "temp = np.random.normal(14, 3, 24)\n",
    "mean_temperature = get_mean_temperature(temp)\n",
    "print(f'La media es {mean_temperature:.2f} grados.')"
   ]
  },
  {
   "cell_type": "markdown",
   "id": "3d024bc5",
   "metadata": {},
   "source": [
    "## Punto 6\n",
    "Crea un función “ConvertirEspaciado”, que reciba como parámetro un texto y devuelve una cadena con un espacio adicional tras cada letra. Por ejemplo, “Hola, tú” devolverá “H o l a , t ú “.  Pruebe "
   ]
  },
  {
   "cell_type": "code",
   "execution_count": 222,
   "id": "7000a5fc",
   "metadata": {},
   "outputs": [],
   "source": [
    "def ConvertirEspaciado(text: str) -> str:\n",
    "    espaciado = ''\n",
    "    for i in text:\n",
    "        espaciado += i + ' '\n",
    "    print(espaciado)"
   ]
  },
  {
   "cell_type": "code",
   "execution_count": 223,
   "id": "d671a70a",
   "metadata": {},
   "outputs": [
    {
     "name": "stdout",
     "output_type": "stream",
     "text": [
      "H o l a ,   t ú \n"
     ]
    }
   ],
   "source": [
    "ConvertirEspaciado('Hola, tú')"
   ]
  },
  {
   "cell_type": "markdown",
   "id": "790d13c2",
   "metadata": {},
   "source": [
    "## Punto 7\n",
    "Crea una función “calcularMaxMin” que recibe una arreglo con valores numérico y devuelve el valor máximo y el mínimo. "
   ]
  },
  {
   "cell_type": "code",
   "execution_count": 236,
   "id": "f3a2526b",
   "metadata": {},
   "outputs": [],
   "source": [
    "def calcularMaxMin(arreglo: np.array) -> float:\n",
    "    maxi = np.max(arreglo)\n",
    "    mini = np.min(arreglo)\n",
    "    return maxi, mini"
   ]
  },
  {
   "cell_type": "code",
   "execution_count": 250,
   "id": "d6f867ec",
   "metadata": {},
   "outputs": [
    {
     "name": "stdout",
     "output_type": "stream",
     "text": [
      "El máximo es 9.418 y el mínimo es 0.187\n"
     ]
    }
   ],
   "source": [
    "random_numbers = np.random.uniform(0, 10, size=50)\n",
    "a, b = calcularMaxMin(random_numbers)\n",
    "print(f'El máximo es {a:.3f} y el mínimo es {b:.3f}')"
   ]
  },
  {
   "cell_type": "code",
   "execution_count": 243,
   "id": "52bf566d",
   "metadata": {},
   "outputs": [
    {
     "data": {
      "text/plain": [
       "numpy.ndarray"
      ]
     },
     "execution_count": 243,
     "metadata": {},
     "output_type": "execute_result"
    }
   ],
   "source": [
    "type(random_numbers)"
   ]
  },
  {
   "cell_type": "markdown",
   "id": "d5b17418",
   "metadata": {},
   "source": [
    "## Punto 8\n",
    "Diseñar una función que calcule el área y el perímetro de una circunferencia. "
   ]
  },
  {
   "cell_type": "code",
   "execution_count": 227,
   "id": "c43e9386",
   "metadata": {},
   "outputs": [],
   "source": [
    "def get_area_and_perimeter(radius: float) -> float:\n",
    "    perimeter = 2 * np.pi * radius\n",
    "    area = np.pi * (radius**2)\n",
    "    return perimeter, area"
   ]
  },
  {
   "cell_type": "code",
   "execution_count": 233,
   "id": "d00c4f27",
   "metadata": {},
   "outputs": [
    {
     "name": "stdout",
     "output_type": "stream",
     "text": [
      "El perimetro del circulo con radio 2.72 es 17.0795 y su área es 23.2134\n"
     ]
    }
   ],
   "source": [
    "radius = np.e\n",
    "perimeter, area = get_area_and_perimeter(radius)\n",
    "print(f'El perimetro del circulo con radio {radius:.2f} es {perimeter:.4f} y su área es {area:.4f}')"
   ]
  },
  {
   "cell_type": "markdown",
   "id": "ea1007d8",
   "metadata": {},
   "source": [
    "## Punto 9\n",
    "Crear una función  llamada “Login”, que recibe un nombre de usuario y una contraseña y devuelva Verdadero si el nombre de usuario es “usuario1” y la contraseña es “asdasd”. Además recibe el número de intentos que se ha intentado hacer login y si no se ha podido hacer login incremente este valor.\n"
   ]
  },
  {
   "cell_type": "code",
   "execution_count": 260,
   "id": "d69507b2",
   "metadata": {},
   "outputs": [],
   "source": [
    "def Login():\n",
    "    user = input('Enter your user, please: ')\n",
    "    password = input('Enter your password: ')\n",
    "    intentos = 0\n",
    "    while (user != 'User1')|(password != 'asdasd'):\n",
    "        print('ERROR: Wrong User or Password')\n",
    "        intentos += 1\n",
    "        user = input('Enter your user, please: ')\n",
    "        password = input('Enter your password: ')\n",
    "    print('Access Granted! \\n Welcome.')"
   ]
  },
  {
   "cell_type": "code",
   "execution_count": 262,
   "id": "5f5649e8",
   "metadata": {},
   "outputs": [
    {
     "name": "stdout",
     "output_type": "stream",
     "text": [
      "Enter your user, please: user2\n",
      "Enter your password: mmm\n",
      "\n",
      "ERROR: Wrong User or Password\n",
      "Enter your user, please: user1\n",
      "Enter your password: 111\n",
      "\n",
      "ERROR: Wrong User or Password\n",
      "Enter your user, please: user1\n",
      "Enter your password: asdasd\n",
      "\n",
      "ERROR: Wrong User or Password\n",
      "Enter your user, please: User1\n",
      "Enter your password: asdasd\n",
      "Access Granted! \n",
      " Welcome.\n"
     ]
    }
   ],
   "source": [
    "Login()"
   ]
  },
  {
   "cell_type": "markdown",
   "id": "5f05cf5c",
   "metadata": {},
   "source": [
    "## Punto 10\n",
    "Crear una función recursiva que permita calcular el factorial de un número. Realiza un programa principal donde se lea un entero y se muestre el resultado del factorial. Revise la lección de funciones."
   ]
  },
  {
   "cell_type": "code",
   "execution_count": 271,
   "id": "83e044a4",
   "metadata": {},
   "outputs": [],
   "source": [
    "def get_factorial(num: int, start = 1, fact = 1):\n",
    "    \n",
    "    if start == num: # Si alcanzamos el valor objetivo retornamos el factorial de ese valor\n",
    "        return fact\n",
    "    \n",
    "    start += 1 # Si aun no lo alcanzamos tomamos el siguiente numero (n+1)\n",
    "    fact = fact * start # y lo multiplicamos por el factorial actual (n!)*(n+1)\n",
    "    \n",
    "    fact = get_factorial(num, start, fact) # y repetimos el proceso: si aun no se alcanza el objetivo se agrega un dígitop al factorial hasta que se alcance al objetivo\n",
    "    \n",
    "    return fact"
   ]
  },
  {
   "cell_type": "code",
   "execution_count": 275,
   "id": "e8ecb90c",
   "metadata": {},
   "outputs": [
    {
     "data": {
      "text/plain": [
       "720"
      ]
     },
     "execution_count": 275,
     "metadata": {},
     "output_type": "execute_result"
    }
   ],
   "source": [
    "get_factorial(6)"
   ]
  },
  {
   "cell_type": "markdown",
   "id": "5c553545",
   "metadata": {},
   "source": [
    "## Punto 11\n",
    "Escribir dos funciones que permitan calcular:\n",
    "1. La cantidad de segundos en un tiempo dado en horas, minutos y segundos.\n",
    "2. La cantidad de horas, minutos y segundos de un tiempo dado en segundos"
   ]
  },
  {
   "cell_type": "code",
   "execution_count": 311,
   "id": "73063e32",
   "metadata": {},
   "outputs": [],
   "source": [
    "def hours_to_seconds(hours: int, minutes: int = 0, seconds: int = 0):\n",
    "    time_in_seconds = hours*60*60 + minutes*60 + seconds\n",
    "    print(f'Hay {time_in_seconds} segundos en {hours}hr : {minutes}mt : {seconds}sec')\n",
    "    \n",
    "def seconds_to_hours(seconds: int):\n",
    "    seconds_to_hours = seconds/(60*60)\n",
    "    decim, hours = np.modf(seconds_to_hours)\n",
    "    to_minutes = decim * 60\n",
    "    decim, minutes = np.modf(to_minutes)\n",
    "    to_seconds = decim * 60\n",
    "    print(f'Hay {hours}hr : {minutes}mt : {to_seconds:.1f}sec en {seconds} segundos')"
   ]
  },
  {
   "cell_type": "code",
   "execution_count": 312,
   "id": "14521761",
   "metadata": {},
   "outputs": [
    {
     "name": "stdout",
     "output_type": "stream",
     "text": [
      "Hay 3661 segundos en 1hr : 1mt : 1sec\n",
      "Hay 0.0hr : 1.0mt : 13.4sec en 73.4 segundos\n"
     ]
    }
   ],
   "source": [
    "hours_to_seconds(1,1,1)\n",
    "seconds_to_hours(73.4)"
   ]
  },
  {
   "cell_type": "markdown",
   "id": "739d7760",
   "metadata": {},
   "source": [
    "## Punto 12\n",
    "Crea una función  que lea una tupla, invierta los valores de la tupla y regrese una nueva tupla invirtiendo los valores. Recuerde que las tuplas son inmutables."
   ]
  },
  {
   "cell_type": "code",
   "execution_count": 332,
   "id": "1c853501",
   "metadata": {},
   "outputs": [],
   "source": [
    "def get_reverse_tuple(lista: tuple) -> tuple:\n",
    "    n = len(lista)\n",
    "    reverse_list = []\n",
    "    \n",
    "    for i in list(range(1,n+1)):\n",
    "        reverse_list.append(lista[-i])\n",
    "    \n",
    "    return tuple(reverse_list)"
   ]
  },
  {
   "cell_type": "code",
   "execution_count": 334,
   "id": "7b2720ea",
   "metadata": {},
   "outputs": [
    {
     "data": {
      "text/plain": [
       "(9, 8, 7, 6, 5, 4, 3, 2, 1, 0)"
      ]
     },
     "execution_count": 334,
     "metadata": {},
     "output_type": "execute_result"
    }
   ],
   "source": [
    "a = tuple([0,1,2,3,4,5,6,7,8,9])\n",
    "get_reverse_tuple(a)"
   ]
  },
  {
   "cell_type": "markdown",
   "id": "b400aeef",
   "metadata": {},
   "source": [
    "## Punto 13\n",
    "Escriba una función que lea una lista y calcule la media geométrica de sus valores, usando funtools.reduce."
   ]
  },
  {
   "cell_type": "code",
   "execution_count": 337,
   "id": "093c69c7",
   "metadata": {},
   "outputs": [],
   "source": [
    "import functools\n",
    "\n",
    "def geometric_mean(x: list) -> float:\n",
    "    n = len(x)\n",
    "    print(functools.reduce(lambda a, b: (a**(1/n)) * (b ** (1/n)), x))"
   ]
  },
  {
   "cell_type": "code",
   "execution_count": 340,
   "id": "a06fc60d",
   "metadata": {},
   "outputs": [
    {
     "name": "stdout",
     "output_type": "stream",
     "text": [
      "6.0\n"
     ]
    }
   ],
   "source": [
    "geometric_mean([4, 9])"
   ]
  }
 ],
 "metadata": {
  "kernelspec": {
   "display_name": "Python 3 (ipykernel)",
   "language": "python",
   "name": "python3"
  },
  "language_info": {
   "codemirror_mode": {
    "name": "ipython",
    "version": 3
   },
   "file_extension": ".py",
   "mimetype": "text/x-python",
   "name": "python",
   "nbconvert_exporter": "python",
   "pygments_lexer": "ipython3",
   "version": "3.9.13"
  }
 },
 "nbformat": 4,
 "nbformat_minor": 5
}
